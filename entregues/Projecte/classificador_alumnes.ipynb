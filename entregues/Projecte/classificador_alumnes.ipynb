{
 "cells": [
  {
   "cell_type": "markdown",
   "metadata": {},
   "source": [
    "# Classificador d'alumnes del curs\n"
   ]
  },
  {
   "cell_type": "code",
   "execution_count": 1,
   "metadata": {},
   "outputs": [],
   "source": [
    "# Reconeixement de cares d'alumnes del curs de visio\n",
    "\n",
    "import torch\n",
    "import torch.nn as nn\n",
    "import torch.optim as optim\n",
    "from torch.optim import lr_scheduler\n",
    "import torchvision\n",
    "from torchvision import datasets, models, transforms\n",
    "\n",
    "\n",
    "import numpy as np\n",
    "import matplotlib.pyplot as plt\n",
    "import time\n",
    "import os\n",
    "import copy"
   ]
  },
  {
   "cell_type": "markdown",
   "metadata": {},
   "source": [
    "## carregar el dataset de train i de test"
   ]
  },
  {
   "cell_type": "code",
   "execution_count": 2,
   "metadata": {},
   "outputs": [
    {
     "name": "stdout",
     "output_type": "stream",
     "text": [
      "Total Number of Samples:  323\n",
      "Number of Samples in Train:  255\n",
      "Number of Samples in Test:  68\n",
      "Number of Classes:  10\n",
      "['DanielValcarce', 'EnriqueGraziano', 'Francisco', 'Genis', 'JordiCasals', 'MarcelSerra', 'OriolJulia', 'Pere', 'RicardPeralta', 'RogerRoca']\n",
      "\n",
      "\n",
      "\n"
     ]
    }
   ],
   "source": [
    "# seleccionar GPU si està disponible..\n",
    "device = torch.device(\"cuda\" if torch.cuda.is_available() else \"cpu\")\n",
    "#print(device)\n",
    "\n",
    "dataset_dir = 'data/'\n",
    "train_dir = os.path.join(dataset_dir,'train')\n",
    "test_dir = os.path.join(dataset_dir,'test')\n",
    "\n",
    "# transformacio standard ImageNet\n",
    "transform = transforms.Compose([\n",
    "                transforms.Resize(224),   #mida d'entrada de la xarxa neuronal\n",
    "                transforms.CenterCrop(224),    #important. Sinó dóna error perquè les imatges no son quadrades       \n",
    "                transforms.ToTensor(),\n",
    "                transforms.Normalize([0.485, 0.456, 0.406], [0.229, 0.224, 0.225])])  #mitja i desviacio estandard\n",
    "\n",
    "\n",
    "batch_size=20\n",
    "train_dataset = datasets.ImageFolder(train_dir, transform=transform)\n",
    "test_dataset = datasets.ImageFolder(test_dir, transform=transform)\n",
    "\n",
    "# Loading datasets into dataloader \n",
    "dataloaders = {'train': torch.utils.data.DataLoader(train_dataset, batch_size = batch_size, shuffle = True),\n",
    "               'test': torch.utils.data.DataLoader(test_dataset, batch_size = batch_size, shuffle = True)}\n",
    "\n",
    "dataset_sizes = {'train': len(train_dataset),\n",
    "                 'test': len(test_dataset)}\n",
    "\n",
    "print(\"Total Number of Samples: \",len(train_dataset) + len(test_dataset))\n",
    "print(\"Number of Samples in Train: \",len(train_dataset))\n",
    "print(\"Number of Samples in Test: \",len(test_dataset))\n",
    "print(\"Number of Classes: \",len(train_dataset.classes))\n",
    "\n",
    "class_names = train_dataset.classes\n",
    "print(class_names)\n",
    "print(\"\\n\\n\")\n",
    "\n",
    "\n",
    "\n",
    "## Mostrar imatges del dataset\n",
    "def imshow(inp, title=None):\n",
    "    plt.figure(figsize = (15,5))\n",
    "    \"\"\"Imshow for Tensor.\"\"\"\n",
    "    inp = inp.numpy().transpose((1, 2, 0))\n",
    "    mean = np.array([0.485, 0.456, 0.406])\n",
    "    std = np.array([0.229, 0.224, 0.225])\n",
    "    inp = std * inp + mean\n",
    "    inp = np.clip(inp, 0, 1)\n",
    "    plt.imshow(inp)\n",
    "    if title is not None:\n",
    "        #plt.title(title)\n",
    "        print(title)\n",
    "    plt.pause(0.001)  # pause a bit so that plots are updated\n",
    "\n",
    "\n",
    "# Get a batch of training data\n",
    "images, classes = next(iter(dataloaders['train'])) \n",
    "\n",
    "# Make a grid from batch\n",
    "out = torchvision.utils.make_grid(images)\n",
    "imshow(out, title=[class_names[x] for x in classes])\n"
   ]
  },
  {
   "cell_type": "markdown",
   "metadata": {},
   "source": [
    "## Generar el model. Epoch:  train + test  loop"
   ]
  },
  {
   "cell_type": "code",
   "execution_count": 3,
   "metadata": {},
   "outputs": [],
   "source": [
    "def train_model(model, criterion, optimizer, scheduler, num_epochs=25):\n",
    "    since = time.time()\n",
    "\n",
    "    best_model_wts = copy.deepcopy(model.state_dict())\n",
    "    best_acc = 0.0\n",
    "\n",
    "    for epoch in range(num_epochs):\n",
    "        print('Epoch {}/{}'.format(epoch, num_epochs - 1))\n",
    "        print('-' * 10)\n",
    "\n",
    "        # Each epoch has a training and validation phase\n",
    "        for phase in ['train', 'test']:\n",
    "            if phase == 'train':\n",
    "                model.train()  # Set model to training mode\n",
    "            else:\n",
    "                model.eval()   # Set model to evaluate mode\n",
    "\n",
    "            running_loss = 0.0\n",
    "            running_corrects = 0\n",
    "\n",
    "            # Iterate over data.\n",
    "            for inputs, labels in dataloaders[phase]:\n",
    "                inputs = inputs.to(device)\n",
    "                labels = labels.to(device)\n",
    "\n",
    "                # zero the parameter gradients\n",
    "                optimizer.zero_grad()\n",
    "\n",
    "                # forward\n",
    "                # track history if only in train\n",
    "                with torch.set_grad_enabled(phase == 'train'):\n",
    "                    outputs = model(inputs)\n",
    "                    _, preds = torch.max(outputs, 1)\n",
    "                    loss = criterion(outputs, labels)\n",
    "\n",
    "                    # backward + optimize only if in training phase\n",
    "                    if phase == 'train':\n",
    "                        loss.backward()\n",
    "                        optimizer.step()\n",
    "\n",
    "                # statistics\n",
    "                running_loss += loss.item() * inputs.size(0)\n",
    "                running_corrects += torch.sum(preds == labels.data)\n",
    "            if phase == 'train':\n",
    "                scheduler.step()\n",
    "\n",
    "            epoch_loss = running_loss / dataset_sizes[phase]\n",
    "            epoch_acc = running_corrects.double() / dataset_sizes[phase]\n",
    "\n",
    "            print('{} Loss: {:.4f} Acc: {:.4f}'.format(phase, epoch_loss, epoch_acc))\n",
    "                        \n",
    "            if phase == 'train':\n",
    "                train_losses.append(epoch_loss)\n",
    "                train_accuracy.append(epoch_acc)\n",
    "            else:\n",
    "                test_losses.append(epoch_loss)\n",
    "                test_accuracy.append(epoch_acc)\n",
    "            \n",
    "            # deep copy dels pesos del model. Si l'accuracy es millor en aquest epoch.\n",
    "            if phase == 'test' and epoch_acc > best_acc:                \n",
    "                best_acc = epoch_acc\n",
    "                best_model_wts = copy.deepcopy(model.state_dict())\n",
    "\n",
    "     \n",
    "    time_elapsed = time.time() - since\n",
    "    print('Training complete in {:.0f}m {:.0f}s'.format(time_elapsed // 60, time_elapsed % 60))\n",
    "    print('Best val Acc: {:.4f}'.format(best_acc))\n",
    "\n",
    "    # load best model weights\n",
    "    model.load_state_dict(best_model_wts)\n",
    "    \n",
    "    #per guardar el model\n",
    "    PATH = 'model_UOC.pth'\n",
    "    torch.save(model, PATH)\n",
    "    \n",
    "   \n",
    "    return model"
   ]
  },
  {
   "cell_type": "code",
   "execution_count": 4,
   "metadata": {},
   "outputs": [],
   "source": [
    "def visualize_model(model, num_images=20):\n",
    "    was_training = model.training\n",
    "    model.eval()\n",
    "    images_so_far = 0\n",
    "    fig = plt.figure()\n",
    "\n",
    "    with torch.no_grad():\n",
    "        for i, (inputs, labels) in enumerate(dataloaders['test']):\n",
    "            inputs = inputs.to(device)\n",
    "            labels = labels.to(device)\n",
    "\n",
    "            outputs = model(inputs)\n",
    "            \n",
    "            sm = torch.nn.Softmax(dim=1) # Get probabilities from outputs\n",
    "            probs = sm(outputs)\n",
    "            \n",
    "            _, preds = torch.max(outputs, 1)\n",
    "            #print(preds)\n",
    "            #print(labels)\n",
    "\n",
    "            for j in range(inputs.size()[0]):\n",
    "                images_so_far += 1\n",
    "                plt.subplot(num_images//2, 3, images_so_far)\n",
    "                #imshow(inputs.cpu().data[j])                \n",
    "                plt.imshow(inputs.cpu().data[j][0],  cmap='gray')                \n",
    "                \n",
    "                # Get the probability for the predicted image\n",
    "                img_prob = probs[j].cpu().detach().numpy()[preds[j]] * 100\n",
    "                plt.title('nom predit: {} ({:.2f}%)\\n nom real:{}'.format((class_names[preds[j]]), img_prob, class_names[labels[j]]))\n",
    "            \n",
    "                \n",
    "                # Mostrem la figura més gran per veure les imatges\n",
    "                fig = plt.gcf()\n",
    "                fig.set_size_inches(12,60)\n",
    "\n",
    "                if images_so_far == num_images:\n",
    "                    model.train(mode=was_training)\n",
    "                    return\n",
    "        model.train(mode=was_training)"
   ]
  },
  {
   "cell_type": "code",
   "execution_count": null,
   "metadata": {},
   "outputs": [],
   "source": []
  },
  {
   "cell_type": "markdown",
   "metadata": {},
   "source": [
    "## Selecció del model. Transfer Learning  a un model preentrenat."
   ]
  },
  {
   "cell_type": "code",
   "execution_count": 5,
   "metadata": {},
   "outputs": [
    {
     "name": "stderr",
     "output_type": "stream",
     "text": [
      "Downloading: \"https://download.pytorch.org/models/resnet18-5c106cde.pth\" to /root/.cache/torch/checkpoints/resnet18-5c106cde.pth\n",
      "100%|██████████| 44.7M/44.7M [00:01<00:00, 25.1MB/s]\n"
     ]
    },
    {
     "name": "stdout",
     "output_type": "stream",
     "text": [
      "total parameters 11181642\n",
      "total trainable parameters 5130\n"
     ]
    }
   ],
   "source": [
    "# Confgiure Hyperparamters\n",
    "batch_size = 4\n",
    "epochs = 15\n",
    "opt_lr = 0.05\n",
    "opt_momentum = 0.9\n",
    "sch_gamma = 0.15\n",
    "sch_step = 3\n",
    "\n",
    "\n",
    "\n",
    "# Transfer Learning: agafem un model ja entrenat\n",
    "# Utilitzarem el mètode Fixed Feature Extractor: fixar totes les capes menys la última\n",
    "# d'aquesta manera entrenem només la capa final.\n",
    "\n",
    "# Model elegit resnet18\n",
    "model_ft = models.resnet18(pretrained=True)\n",
    "\n",
    "# Congelem tots els pesos del model per a no perdre l'entrenament ja fet\n",
    "for param in model_ft.parameters():\n",
    "    param.requires_grad = False\n",
    "\n",
    "#print(model_ft)\n",
    "\n",
    "# substituim la darrera capa per una capa fully connected que passi de num_filters a nombre classes\n",
    "num_ftrs = model_ft.fc.in_features\n",
    "model_ft.fc = nn.Linear(num_ftrs, len(class_names))\n",
    "\n",
    "#print(model_ft)\n",
    "\n",
    "# les noves capes afegides tenen els pesos 'actius' per defecte. Aquests pesos seran els únics a entrenar\n",
    "total_params = sum(p.numel() for p in model_ft.parameters())\n",
    "print('total parameters {}'.format(total_params))\n",
    "total_trainable_params = sum(p.numel() for p in model_ft.parameters() if p.requires_grad)\n",
    "print('total trainable parameters {}'.format(total_trainable_params))\n",
    "\n",
    "model_ft = model_ft.to(device)\n",
    "\n",
    "criterion = nn.CrossEntropyLoss()\n",
    "\n",
    "optimizer_conv = optim.SGD(model_ft.fc.parameters(), lr=opt_lr, momentum=opt_momentum)\n",
    "\n",
    "# Decay LR by a factor of 0.1 every 7 epochs\n",
    "exp_lr_scheduler = lr_scheduler.StepLR(optimizer_conv, step_size=sch_step, gamma=sch_gamma)\n"
   ]
  },
  {
   "cell_type": "markdown",
   "metadata": {},
   "source": [
    "## Entrenament i visualització gràfica epochs"
   ]
  },
  {
   "cell_type": "code",
   "execution_count": 6,
   "metadata": {},
   "outputs": [
    {
     "name": "stdout",
     "output_type": "stream",
     "text": [
      "Epoch 0/14\n",
      "----------\n",
      "train Loss: 4.5237 Acc: 0.2392\n",
      "test Loss: 4.5134 Acc: 0.1471\n",
      "Epoch 1/14\n",
      "----------\n",
      "train Loss: 2.1614 Acc: 0.6118\n",
      "test Loss: 2.4031 Acc: 0.6618\n",
      "Epoch 2/14\n",
      "----------\n",
      "train Loss: 1.7056 Acc: 0.7294\n",
      "test Loss: 0.8682 Acc: 0.8382\n",
      "Epoch 3/14\n",
      "----------\n",
      "train Loss: 0.4463 Acc: 0.9098\n",
      "test Loss: 0.5028 Acc: 0.8824\n",
      "Epoch 4/14\n",
      "----------\n",
      "train Loss: 0.2105 Acc: 0.9569\n",
      "test Loss: 0.4660 Acc: 0.8676\n",
      "Epoch 5/14\n",
      "----------\n",
      "train Loss: 0.1771 Acc: 0.9529\n",
      "test Loss: 0.2719 Acc: 0.9118\n",
      "Epoch 6/14\n",
      "----------\n",
      "train Loss: 0.0617 Acc: 0.9765\n",
      "test Loss: 0.2896 Acc: 0.9118\n",
      "Epoch 7/14\n",
      "----------\n",
      "train Loss: 0.0837 Acc: 0.9725\n",
      "test Loss: 0.2705 Acc: 0.8971\n",
      "Epoch 8/14\n",
      "----------\n",
      "train Loss: 0.1178 Acc: 0.9608\n",
      "test Loss: 0.2474 Acc: 0.9265\n",
      "Epoch 9/14\n",
      "----------\n",
      "train Loss: 0.0793 Acc: 0.9725\n",
      "test Loss: 0.2613 Acc: 0.9118\n",
      "Epoch 10/14\n",
      "----------\n",
      "train Loss: 0.0725 Acc: 0.9647\n",
      "test Loss: 0.2544 Acc: 0.9118\n",
      "Epoch 11/14\n",
      "----------\n",
      "train Loss: 0.0829 Acc: 0.9686\n",
      "test Loss: 0.2549 Acc: 0.9118\n",
      "Epoch 12/14\n",
      "----------\n",
      "train Loss: 0.1149 Acc: 0.9647\n",
      "test Loss: 0.2595 Acc: 0.9118\n",
      "Epoch 13/14\n",
      "----------\n",
      "train Loss: 0.0758 Acc: 0.9686\n",
      "test Loss: 0.2514 Acc: 0.9118\n",
      "Epoch 14/14\n",
      "----------\n",
      "train Loss: 0.0948 Acc: 0.9765\n",
      "test Loss: 0.2492 Acc: 0.9265\n",
      "Training complete in 0m 9s\n",
      "Best val Acc: 0.9265\n"
     ]
    },
    {
     "name": "stderr",
     "output_type": "stream",
     "text": [
      "/opt/conda/lib/python3.6/site-packages/torch/serialization.py:292: UserWarning: Couldn't retrieve source code for container of type ResNet. It won't be checked for correctness upon loading.\n",
      "  \"type \" + obj.__name__ + \". It won't be checked \"\n",
      "/opt/conda/lib/python3.6/site-packages/torch/serialization.py:292: UserWarning: Couldn't retrieve source code for container of type Conv2d. It won't be checked for correctness upon loading.\n",
      "  \"type \" + obj.__name__ + \". It won't be checked \"\n",
      "/opt/conda/lib/python3.6/site-packages/torch/serialization.py:292: UserWarning: Couldn't retrieve source code for container of type BatchNorm2d. It won't be checked for correctness upon loading.\n",
      "  \"type \" + obj.__name__ + \". It won't be checked \"\n",
      "/opt/conda/lib/python3.6/site-packages/torch/serialization.py:292: UserWarning: Couldn't retrieve source code for container of type ReLU. It won't be checked for correctness upon loading.\n",
      "  \"type \" + obj.__name__ + \". It won't be checked \"\n",
      "/opt/conda/lib/python3.6/site-packages/torch/serialization.py:292: UserWarning: Couldn't retrieve source code for container of type MaxPool2d. It won't be checked for correctness upon loading.\n",
      "  \"type \" + obj.__name__ + \". It won't be checked \"\n",
      "/opt/conda/lib/python3.6/site-packages/torch/serialization.py:292: UserWarning: Couldn't retrieve source code for container of type Sequential. It won't be checked for correctness upon loading.\n",
      "  \"type \" + obj.__name__ + \". It won't be checked \"\n",
      "/opt/conda/lib/python3.6/site-packages/torch/serialization.py:292: UserWarning: Couldn't retrieve source code for container of type BasicBlock. It won't be checked for correctness upon loading.\n",
      "  \"type \" + obj.__name__ + \". It won't be checked \"\n",
      "/opt/conda/lib/python3.6/site-packages/torch/serialization.py:292: UserWarning: Couldn't retrieve source code for container of type AdaptiveAvgPool2d. It won't be checked for correctness upon loading.\n",
      "  \"type \" + obj.__name__ + \". It won't be checked \"\n",
      "/opt/conda/lib/python3.6/site-packages/torch/serialization.py:292: UserWarning: Couldn't retrieve source code for container of type Linear. It won't be checked for correctness upon loading.\n",
      "  \"type \" + obj.__name__ + \". It won't be checked \"\n"
     ]
    }
   ],
   "source": [
    "# Entrenar el model\n",
    "\n",
    "train_losses = []\n",
    "test_losses = []\n",
    "train_accuracy = []\n",
    "test_accuracy = []\n",
    "\n",
    "# 15 epochs. No millora amb més. \n",
    "model_conv = train_model(model_ft, criterion, optimizer_conv, exp_lr_scheduler, epochs)"
   ]
  },
  {
   "cell_type": "code",
   "execution_count": 7,
   "metadata": {},
   "outputs": [
    {
     "data": {
      "text/plain": [
       "<matplotlib.legend.Legend at 0x7fae180a0400>"
      ]
     },
     "execution_count": 7,
     "metadata": {},
     "output_type": "execute_result"
    },
    {
     "data": {
      "image/png": "[encoded data removed]",
      "text/plain": [
       "<Figure size 1080x360 with 2 Axes>"
      ]
     },
     "metadata": {
      "needs_background": "light"
     },
     "output_type": "display_data"
    }
   ],
   "source": [
    "# Visualitzar resultats per a cada epoch\n",
    "\n",
    "fig = plt.figure(figsize=(15,5))\n",
    "plt.subplot(1,2,1)\n",
    "plt.plot(train_losses, color='blue', label='Train')\n",
    "plt.plot(test_losses, color='red', label='Test')\n",
    "plt.title('Loss')\n",
    "plt.xlabel('epoch')\n",
    "plt.ylabel('loss')\n",
    "plt.legend()\n",
    "\n",
    "plt.subplot(1,2,2)\n",
    "plt.plot(train_accuracy, color='blue', label='Train')\n",
    "plt.plot(test_accuracy, color='red', label='Test')\n",
    "plt.title('Accuracy')\n",
    "plt.xlabel('epoch')\n",
    "plt.ylabel('accuracy')\n",
    "\n",
    "plt.legend()"
   ]
  },
  {
   "cell_type": "markdown",
   "metadata": {},
   "source": [
    "## Validació del model. Visualitzar resultats"
   ]
  },
  {
   "cell_type": "code",
   "execution_count": null,
   "metadata": {},
   "outputs": [],
   "source": [
    "#resultats\n",
    "visualize_model(model_conv)\n"
   ]
  },
  {
   "cell_type": "markdown",
   "metadata": {},
   "source": [
    "# Carregar el model guardat en un arxiu"
   ]
  },
  {
   "cell_type": "code",
   "execution_count": 51,
   "metadata": {},
   "outputs": [
    {
     "name": "stdout",
     "output_type": "stream",
     "text": [
      "tensor([[-3.4259, -0.6724, -4.7281, -2.6082,  1.7974, 15.4678,  0.8477, -6.2000,\n",
      "          0.0173, -3.9049]], device='cuda:0', grad_fn=<AddmmBackward>)\n",
      "tensor(5, device='cuda:0')\n",
      "MarcelSerra\n"
     ]
    }
   ],
   "source": [
    "import torchvision\n",
    "from PIL import Image\n",
    "import torch\n",
    "from torchvision import transforms\n",
    "\n",
    "device = torch.device(\"cuda\" if torch.cuda.is_available() else \"cpu\")\n",
    "\n",
    "PATH = 'model_UOC.pth'\n",
    "img_path = \"im_proves/marcel.jpg\"\n",
    "llista_labels= ['DanielValcarce', 'EnriqueGraziano', 'FranciscoMartin', 'GenisHeredia', 'JordiCasals', 'MarcelSerra', 'OriolJulia', 'PereClaver', 'RicardPeralta', 'RogerRoca']\n",
    "\n",
    "model_load = torch.load(PATH)\n",
    "model_load.eval()\n",
    "\n",
    "\n",
    "img = Image.open(img_path)\n",
    "# Defing PyTorch Transform\n",
    "transform = transforms.Compose([\n",
    "                transforms.Resize(224),   #mida d'entrada de la xarxa neuronal\n",
    "                transforms.CenterCrop(224),    #important. Sinó dóna error perquè les imatges no son quadrades       \n",
    "                transforms.ToTensor(),\n",
    "                transforms.Normalize([0.485, 0.456, 0.406], [0.229, 0.224, 0.225])])  #mitja i desviacio estandard\n",
    "\n",
    "# Apply the transform to the image\n",
    "img = transform(img) \n",
    "img = img.to(device)\n",
    "\n",
    "# Pass the image to the model\n",
    "pred = model_load(img[None, ...])\n",
    "_, preds = torch.max(pred, 1)\n",
    "\n",
    "print(pred)\n",
    "print(preds[0])\n",
    "\n",
    "resultat= llista_labels[preds]\n",
    "print(resultat)\n",
    "\n",
    "\n",
    "\n",
    "\n",
    "\n",
    "\n",
    "# evaluar\n",
    "#visualize_model(model_load)"
   ]
  },
  {
   "cell_type": "code",
   "execution_count": null,
   "metadata": {},
   "outputs": [],
   "source": []
  }
 ],
 "metadata": {
  "kernelspec": {
   "display_name": "Python 3",
   "language": "python",
   "name": "python3"
  },
  "language_info": {
   "codemirror_mode": {
    "name": "ipython",
    "version": 3
   },
   "file_extension": ".py",
   "mimetype": "text/x-python",
   "name": "python",
   "nbconvert_exporter": "python",
   "pygments_lexer": "ipython3",
   "version": "3.6.9"
  }
 },
 "nbformat": 4,
 "nbformat_minor": 2
}
