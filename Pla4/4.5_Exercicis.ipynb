{
 "cells": [
  {
   "cell_type": "markdown",
   "metadata": {},
   "source": [
    "# Exercici contorns\n",
    "\n",
    "Donada la image \"Imatges/coins.jpg\" fer servir canny i postprocessament basat en anàlisi de contorns per a detectar les monedes\n",
    "\n",
    "<img src=\"Imatges/coins.jpg\">\n",
    "\n"
   ]
  },
  {
   "cell_type": "markdown",
   "metadata": {},
   "source": [
    "# Exercici keypoints\n",
    "\n",
    "Donada la imatge \"Imatges/cocacola_logo.jpg\", buscar quants logos de CocaCola hi ha en la imatge \"Imatges/cocacola_groups.jpg\". Es recomana fer servir descriptors ORB \n",
    "\n",
    "Es proporciona un petit codi de suport per tal de recòrrer una imatge amb una finestra lliscant.\n",
    "\n",
    "<table>\n",
    "    <tr>\n",
    "        <td><center><img src=\"Imatges/cocacola_logo.jpg\">cocacola_logo.jpg</center></td>\n",
    "        <td><center><img src=\"Imatges/cocacola_groups.jpg\">cocacola_groups.jpg</center></td>\n",
    "    </tr>\n",
    "</table>\n",
    "    \n",
    "\n",
    "\n"
   ]
  },
  {
   "cell_type": "code",
   "execution_count": 2,
   "metadata": {},
   "outputs": [],
   "source": [
    "import cv2\n",
    "import matplotlib.pyplot as plt\n",
    "import time\n",
    "\n",
    "def sliding_window(image, stepSize, windowSize):\n",
    "    # slide a window across the image\n",
    "    for y in range(0, image.shape[0], stepSize):\n",
    "        for x in range(0, image.shape[1], stepSize):\n",
    "            # yield the current window\n",
    "            yield (x, y, image[y:y + windowSize[1], x:x + windowSize[0]])\n",
    "            \n",
    "\n",
    "logo = cv2.imread('Imatges/cocacola_logo.jpg', cv2.IMREAD_GRAYSCALE)\n",
    "img = cv2.imread('Imatges/cocacola_groups.jpg', cv2.IMREAD_GRAYSCALE)\n"
   ]
  },
  {
   "cell_type": "markdown",
   "metadata": {},
   "source": [
    "# Exercici PCA i Clustering\n",
    "\n",
    "Fent servir PCA i K-means, deduir el nombre real de clústers presents en el dataset mnist. Suggeriment: fer servir el mètode \"elbow\" \n",
    "\n"
   ]
  },
  {
   "cell_type": "code",
   "execution_count": 13,
   "metadata": {},
   "outputs": [
    {
     "name": "stdout",
     "output_type": "stream",
     "text": [
      "{'8', '6', '0', '7', '9', '5', '3', '2', '1', '4'}\n",
      "(4000, 784)\n",
      "(4000, 255)\n"
     ]
    },
    {
     "data": {
      "text/plain": [
       "Text(0.5,1,'The Elbow Method showing the optimal k')"
      ]
     },
     "execution_count": 13,
     "metadata": {},
     "output_type": "execute_result"
    },
    {
     "data": {
      "image/png": "[encoded data removed]",
      "text/plain": [
       "<Figure size 432x288 with 2 Axes>"
      ]
     },
     "metadata": {},
     "output_type": "display_data"
    }
   ],
   "source": [
    "from sklearn.decomposition import PCA\n",
    "import numpy as np\n",
    "import matplotlib.pyplot as plt\n",
    "from sklearn.preprocessing import StandardScaler\n",
    "\n",
    "# Mnist té la forma de 4000 files per 28x28 columnes\n",
    "mnist = np.load('Data/mnist.npy')\n",
    "# les etiquetes tenen 4000 files per 1 columna (el dígit representat)\n",
    "labels = np.load('Data/mnist_labels.npy')\n",
    "\n"
   ]
  },
  {
   "cell_type": "markdown",
   "metadata": {},
   "source": [
    "# Exercici SOM\n",
    "\n",
    "Entrenar una xarxa tipus SOM amb les dades de MNIST i fer-la servir per clusteritzar MNIST. Com de bé representen les cel·les de la SOM les etiquetes de les dades?\n"
   ]
  },
  {
   "cell_type": "code",
   "execution_count": 34,
   "metadata": {},
   "outputs": [],
   "source": [
    "from minisom import MiniSom\n",
    "from sklearn.decomposition import PCA\n",
    "import numpy as np\n",
    "import matplotlib.pyplot as plt\n",
    "%matplotlib inline\n",
    "\n",
    "# Mnist té la forma de 4000 files per 28x28 columnes\n",
    "mnist = np.load('Data/mnist.npy')\n",
    "labels = np.load('Data/mnist_labels.npy')\n"
   ]
  }
 ],
 "metadata": {
  "kernelspec": {
   "display_name": "Python 3",
   "language": "python",
   "name": "python3"
  },
  "language_info": {
   "codemirror_mode": {
    "name": "ipython",
    "version": 3
   },
   "file_extension": ".py",
   "mimetype": "text/x-python",
   "name": "python",
   "nbconvert_exporter": "python",
   "pygments_lexer": "ipython3",
   "version": "3.6.3"
  }
 },
 "nbformat": 4,
 "nbformat_minor": 4
}
