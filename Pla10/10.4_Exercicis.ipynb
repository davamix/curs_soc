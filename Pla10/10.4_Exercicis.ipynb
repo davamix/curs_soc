{
 "cells": [
  {
   "cell_type": "markdown",
   "metadata": {},
   "source": [
    "# Exercici 1: YOLO\n",
    "\n",
    "Fer servir YOLO per a detecció d'objectes en les imatges anteriors\n",
    "\n",
    "Implementació: https://github.com/eriklindernoren/PyTorch-YOLOv3\n",
    "\n",
    "Adaptar el codi de detecció per a que funcioni en Notebooks\n"
   ]
  },
  {
   "cell_type": "markdown",
   "metadata": {},
   "source": [
    "# Exercici 2: Transfer learning amb YOLO [Opcional]\n",
    "    \n",
    "Entrenar un detector de gats a partir de l'algoritme anterior\n"
   ]
  }
 ],
 "metadata": {
  "kernelspec": {
   "display_name": "Python 3",
   "language": "python",
   "name": "python3"
  },
  "language_info": {
   "codemirror_mode": {
    "name": "ipython",
    "version": 3
   },
   "file_extension": ".py",
   "mimetype": "text/x-python",
   "name": "python",
   "nbconvert_exporter": "python",
   "pygments_lexer": "ipython3",
   "version": "3.6.3"
  }
 },
 "nbformat": 4,
 "nbformat_minor": 4
}
