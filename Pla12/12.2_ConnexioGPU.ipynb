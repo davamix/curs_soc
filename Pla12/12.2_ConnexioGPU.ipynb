{
 "cells": [
  {
   "cell_type": "markdown",
   "metadata": {},
   "source": [
    "# Com connectar a les màquines amb GPU\n",
    "\n",
    "\n",
    "1- Anar a la web [d'Azure](https://portal.azure.com)\n",
    "\n",
    "2- Posar com a usuari: \n",
    "\n",
    "     usuari: vision-group-08@eurecatuoctraining.onmicrosoft.com  (per al grup 8, per exemple)\n",
    "     password: el token proporcionat per correu\n",
    "     \n",
    "3- Seleccionar 'Maquinas virtuales' i entrar dins de la màquina del vostre grup\n",
    "\n",
    "4- Clickar en 'Iniciar'\n",
    "\n",
    "5- Anar a http://lab-gpu08-vision.eurecat-uoc.ilimit.net/\n",
    "\n",
    "6- Fer servir el token proporcionat per correu\n",
    "\n",
    "### És important apagar la màquina en finalitzar la feina. Cada grup té 200 hores de màquina!\n",
    "\n",
    "\n"
   ]
  },
  {
   "cell_type": "code",
   "execution_count": 6,
   "metadata": {},
   "outputs": [
    {
     "data": {
      "text/plain": [
       "0"
      ]
     },
     "execution_count": 6,
     "metadata": {},
     "output_type": "execute_result"
    }
   ],
   "source": [
    "# Per verificar que la màquina té GPU\n",
    "\n",
    "import torch\n",
    "torch.cuda.device_count()\n"
   ]
  },
  {
   "cell_type": "markdown",
   "metadata": {},
   "source": [
    "## Per apagar la instància:\n",
    "\n",
    "1- Desde el portal d'Azure, dins la màquina virtual, clickar 'Detener'\n"
   ]
  },
  {
   "cell_type": "code",
   "execution_count": null,
   "metadata": {},
   "outputs": [],
   "source": []
  }
 ],
 "metadata": {
  "kernelspec": {
   "display_name": "Python 3",
   "language": "python",
   "name": "python3"
  },
  "language_info": {
   "codemirror_mode": {
    "name": "ipython",
    "version": 3
   },
   "file_extension": ".py",
   "mimetype": "text/x-python",
   "name": "python",
   "nbconvert_exporter": "python",
   "pygments_lexer": "ipython3",
   "version": "3.6.3"
  }
 },
 "nbformat": 4,
 "nbformat_minor": 4
}
