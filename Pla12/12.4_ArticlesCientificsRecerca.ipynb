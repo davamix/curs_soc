{
 "cells": [
  {
   "cell_type": "markdown",
   "metadata": {},
   "source": [
    "# Articles científics de recerca\n",
    "\n",
    "Els articles científics de recerca (en anglès \"scientific researching **paper**\") són una gran font d'informació que ens pot ser molt útil per aprendre noves tècniques o per conèixer l'estat de tècniques ja existents. \n",
    "\n",
    "Tingueu en compte que no tots els articles proposen noves idees, molts revisen idees ja existents per comprovar si funcionen o comparen diverses tècniques per veure quina és millor per un problema en concret.\n",
    "\n",
    "## Estructura d'un article científic de recerca\n",
    "La majoria dels articles segueixen un format específic amb parts molt ben diferenciades. Aquestes són (per ordre):\n",
    "1. *Abstract*: El **resum** de tot l'article emfatitzant l'objectiu, els resultats i les conclusions.\n",
    "2. *Introduction*: El **per què** l'autor(s) han decidit fer l'estudi, la hipòtesi (introdueixen el tema, expliquen l'objectiu de l'estudi, presenten perquè és important, únic i com afegeix valor al camp). \n",
    "3. *Introduction - Literature review*: **Qui més** ho ha intentat abans i quines preguntes encara queden pendents de resoldre. És un resum d'articles anteriors sobre el mateix tema.\n",
    "4. *Methodology / Materials and Methods*: El **com** s'ha fet l'estudi. Acostuma a tenir suficient informació com per poder repetir l'estudi un mateix.\n",
    "5. *Results*: **Què ha passat**, què ha trobat l'estudi. Resultats en dades i estadístiques en forma de taules, diagrames i gràfics. \n",
    "6. *Discussion / Analysis*: **Què volen dir els resultats**. El(s) autor(s) expliquen el que creuen que volen dir les dades obtingudes. Alguns articles inclouen aquesta explicació en l'apartat anterior, el de Results.\n",
    "7. *Conclusion*: **Què s'ha après de la recerca**. El(s) autor(s) expliquen les conclusions de l'estudi. Normalment inclou una explicació sobre com s'ha resolt la hipòtesi inical, com contribueix al camp corresponent, les parts més fortes i més febles de l'estudi, i les recomanacions per futures recerques.\n",
    "8. *References*: Les referències a articles previs.\n",
    "\n",
    "## Recomanacions per llegir articles\n",
    "No cal llegir l'article complet si esteu buscant alguna informació en concret, sempre és millor llegir primer l'Abstract i si coincideix amb el que esteu buscant, llegiu a continuació els apartats de Introduction i de Conclusion. Si encara coincideix amb el que és del vostre interès, llavors podeu entrar a llegir en profunditat la resta de seccions de l'article.\n",
    "\n",
    "Finalment, us deixem un article científic sobre com llegir articles científics (valgui la redundància): [https://web.stanford.edu/class/ee384m/Handouts/HowtoReadPaper.pdf](https://web.stanford.edu/class/ee384m/Handouts/HowtoReadPaper.pdf)\n",
    "\n"
   ]
  },
  {
   "cell_type": "code",
   "execution_count": null,
   "metadata": {},
   "outputs": [],
   "source": []
  }
 ],
 "metadata": {
  "kernelspec": {
   "display_name": "Python 3",
   "language": "python",
   "name": "python3"
  },
  "language_info": {
   "codemirror_mode": {
    "name": "ipython",
    "version": 3
   },
   "file_extension": ".py",
   "mimetype": "text/x-python",
   "name": "python",
   "nbconvert_exporter": "python",
   "pygments_lexer": "ipython3",
   "version": "3.6.3"
  }
 },
 "nbformat": 4,
 "nbformat_minor": 4
}
