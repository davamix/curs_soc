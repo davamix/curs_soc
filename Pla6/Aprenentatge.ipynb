{
 "cells": [
  {
   "cell_type": "markdown",
   "metadata": {},
   "source": [
    "## Machine Learning\n",
    "Machine Learning és una branca de la Intel·ligència Artificial que crea sistemes per analitzar grups grans de dades amb l'objectiu d'aprendre i detectar patrons dins aquests grups de manera autòmatica, sense la intervenció de persones.\n",
    "\n",
    "Hi ha molts mètodes de machine learning, sovint categoritzats dins d'un d'aquests dos grans grups:\n",
    "- Aprenentatge supervisat: El sistema té algun tipus d'entrada inicial de dades tractades i etiquetades que es fan servir per aprendre. L'objectiu és poder identificar o etiqueta correctament qualsevol dada nova que arribi a partir del que el sistema ha après.\n",
    "- Aprenentatge no supervisat: El sistema no té cap dada d'aprenentatge inicial, sinó que intenta trobar patrons amagats dins un gran grup de dades analitzant les dades directament.\n",
    "\n",
    "### Aprenentatge Supervisat\n",
    "En un aprenentatge supervisat, el sistema té algun tipus de base de dades d'aprenentage que, o bé  ha estat etiquetada, o bé ha estat classificada d'alguna manera. \n",
    "\n",
    "Per exemple, un grup de imatges de gossos i gats que han estat prèviament etiquetats amb les identificacions  corresponents, un grup de imatges classificades segons si contenen animals o plantes, les dades històriques del nivell de trànsit en un carrer segons l'hora del dia durant els últims 6 mesos, etc. \n",
    "\n",
    "L'algoritme, llavors, pot _aprendre_ d'aquestes dades d'aprenentatge i fer prediccions de les etiquetes o les classificacions de dades noves no etiquetades prèviament. Per a qualsevol entrada de dada nova, el sistema intentarà donar-li una sortida \"correcta\" en forma de classificació o etiqueta. Per exemple, si li entrem una imatge d'un gos que no formava part de la base de dades d'aprenentatge, esperem que el sistema la classifiqui correctament com un gos.\n",
    "\n",
    "L'aprenentatge supervisat s'utilitza moltes vegades per **classificar** contingut (predir una categoria), o bé per fer **regressions numèriques** (predir un número). \n",
    "\n",
    "Alguns exemples que fan servir aprenentatge supervisat per classificar poden ser: filtre d'spam, detecció automàtica de idioma, cerca de documents similars, reconeixement de caràcters i dígits en una escriptura manual, etc.\n",
    "\n",
    "Hi ha molts mètodes o algoritmes dins d'aquesta categoria, alguns dels més populars són KNN (K-Nearest Neighbours), SVM (Super Vector Machine), Arbres de decissions, Regressió logística, Naive Bayes, etc.\n",
    "\n",
    "En el cas de les regressions, el sistema bàsicament prediu un número enlloc d'una categoria. Per exemple quin nivell de trànsit hi haurà en un carrer concret segons la hora del dia, quin serà el valor en borsa d'una empresa, etc. \n",
    "\n",
    "La majoria de sistemes que depenen del temps poden treure profit d'aquest sistema. La idea és volcar totes les dades que es tenen en un gràfic i veure quina és la correlació mitja de les dades per poder predir un nou valor en un moment determinat del temps.\n",
    "\n",
    "Quan la correlació mitja segueix una línea recta direm que estem davant una regressió lineal, mentre que si té corbes parlarem d'una regressió polinomial.\n",
    "\n",
    "És un mètode molt utilitzat en finances.\n",
    "\n",
    "### Aprenentage no supervisat\n",
    "En un aprenentage no supervisat, en canvi, el sistema no té cap mena d'entrada inicial de dades etiquetades o classificades prèviament. Tampoc intenta trobar una sortida correcta, sinó que explora les dades i descriu estructures i patrons amagats en les mateixes. \n",
    "\n",
    "Per exemple, i seguint amb el mateix exemple anterior, li entraríem directament imatges de gossos i gats i esperaríem que el sistema detectés per sí sol que hi ha dos grups diferents d'animals i els agrupés en dos grups de sortida.\n",
    "\n",
    "Dins dels aprenentatges no supervisats, podem trobar algoritmes o mètodes amb objectius ben diferents com: \n",
    "- Classificar: clusterització per k-means, mean-shift, DBSCAN.\n",
    "- Reduir dimensions del problema: PCA (Principal Component Analysis), SVD (), Latent Dirichlet allocation (LDA), LSA (Latent Semantic Analysis).\n",
    "- Trobar associacions.\n"
   ]
  }
 ],
 "metadata": {
  "kernelspec": {
   "display_name": "Python 3",
   "language": "python",
   "name": "python3"
  },
  "language_info": {
   "codemirror_mode": {
    "name": "ipython",
    "version": 3
   },
   "file_extension": ".py",
   "mimetype": "text/x-python",
   "name": "python",
   "nbconvert_exporter": "python",
   "pygments_lexer": "ipython3",
   "version": "3.6.3"
  }
 },
 "nbformat": 4,
 "nbformat_minor": 4
}
